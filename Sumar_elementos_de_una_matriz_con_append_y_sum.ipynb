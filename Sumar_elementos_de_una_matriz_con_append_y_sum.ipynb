{
  "nbformat": 4,
  "nbformat_minor": 0,
  "metadata": {
    "colab": {
      "name": "Sumar elementos de una matriz con append y sum.ipynb",
      "provenance": [],
      "authorship_tag": "ABX9TyMRfun1Dq89pHxXNwt+avAe",
      "include_colab_link": true
    },
    "kernelspec": {
      "name": "python3",
      "display_name": "Python 3"
    },
    "language_info": {
      "name": "python"
    }
  },
  "cells": [
    {
      "cell_type": "markdown",
      "metadata": {
        "id": "view-in-github",
        "colab_type": "text"
      },
      "source": [
        "<a href=\"https://colab.research.google.com/github/camillevitar/Python/blob/main/Sumar_elementos_de_una_matriz_con_append_y_sum.ipynb\" target=\"_parent\"><img src=\"https://colab.research.google.com/assets/colab-badge.svg\" alt=\"Open In Colab\"/></a>"
      ]
    },
    {
      "cell_type": "code",
      "metadata": {
        "id": "KGQzalQIh6_b"
      },
      "source": [
        "matriz = [ \n",
        "    [1, 1, 1, 3],\n",
        "    [2, 2, 2, 6],\n",
        "    [3, 3, 3, 9],\n",
        "    [4, 4, 4, 12]\n",
        "]"
      ],
      "execution_count": 2,
      "outputs": []
    },
    {
      "cell_type": "code",
      "metadata": {
        "id": "77zOD6ALGUpR"
      },
      "source": [
        "matriz[0].append(sum(matriz[0]))"
      ],
      "execution_count": 3,
      "outputs": []
    },
    {
      "cell_type": "code",
      "metadata": {
        "colab": {
          "base_uri": "https://localhost:8080/"
        },
        "id": "v44bVNjoIKNo",
        "outputId": "5d8519ef-a360-4e0a-ae0f-dc50ec8ba65c"
      },
      "source": [
        "matriz"
      ],
      "execution_count": 4,
      "outputs": [
        {
          "output_type": "execute_result",
          "data": {
            "text/plain": [
              "[[1, 1, 1, 3, 6], [2, 2, 2, 6], [3, 3, 3, 9], [4, 4, 4, 12]]"
            ]
          },
          "metadata": {},
          "execution_count": 4
        }
      ]
    },
    {
      "cell_type": "code",
      "metadata": {
        "id": "hFb-1HFPJrvx"
      },
      "source": [
        ""
      ],
      "execution_count": null,
      "outputs": []
    }
  ]
}